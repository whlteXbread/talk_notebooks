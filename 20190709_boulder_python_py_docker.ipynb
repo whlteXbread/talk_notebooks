{
 "cells": [
  {
   "cell_type": "markdown",
   "metadata": {
    "slideshow": {
     "slide_type": "slide"
    }
   },
   "source": [
    "# deploying python code using docker\n",
    "\n",
    "## follow along at:\n",
    "\n",
    "slides:\n",
    "### [`thisisreal.net/talks/20190709_boulder_python/`](https://thisisreal.net/talks/20190709_boulder_python/)\n",
    "notebook:\n",
    "### [`https://github.com/whlteXbread/talk_notebooks/`](https://github.com/whlteXbread/talk_notebooks/blob/master/20190709_boulder_python_py_docker.ipynb)\n",
    "\n",
    "andrew catellier\n",
    "\n",
    "[`thisisreal.net`](https://thisisreal.net)\n",
    "\n",
    "[`@whltexbread`](https://twitter.com/whltexbread)\n",
    "\n",
    "[`@whltexbread@xoxo.zone`](https://xoxo.zone/web/accounts/536#)\n",
    "\n",
    "[`github.com/whltexbread`](https://github.com/whltexbread)"
   ]
  },
  {
   "cell_type": "markdown",
   "metadata": {
    "slideshow": {
     "slide_type": "subslide"
    }
   },
   "source": [
    "for work\n",
    "* geovisual analytics\n",
    "  * computer vision/machine learning scientist\n",
    "* us doc—institute for telecommunication science\n",
    "  * \"expert\"—use ml to perform audio and video quality estimation\n",
    "\n",
    "for fun:\n",
    "* [photos](https://thisisreal.net/imglib)\n",
    "* [blog](https://negativesign.com)\n",
    "* other stuff"
   ]
  },
  {
   "cell_type": "markdown",
   "metadata": {
    "slideshow": {
     "slide_type": "slide"
    }
   },
   "source": [
    "# what even is docker\n",
    "\n",
    "docker is a way to build infrastructure using code\n",
    "\n",
    "\n",
    "# okay thanks, but what\n",
    "\n",
    "imagine setting up your dev/prod environment with one command.\n",
    "\n",
    "imagine a shell script to set up your dev/prod environment but without the pain.\n",
    "\n",
    "imagine not worrying about dependencies.\n",
    "\n",
    "then take about one step back from there."
   ]
  },
  {
   "cell_type": "markdown",
   "metadata": {
    "slideshow": {
     "slide_type": "subslide"
    }
   },
   "source": [
    "# why are you here, you are not devops\n",
    "\n",
    "there are lots of good python/docker tutorials out there! definitely check them out.\n",
    "\n",
    "but here's a crash course that covers some of the subtleties that aren't always covered in the tutorials.\n",
    "\n",
    "speak up if you see something that doesn't make sense!"
   ]
  },
  {
   "cell_type": "markdown",
   "metadata": {
    "slideshow": {
     "slide_type": "slide"
    }
   },
   "source": [
    "# let's deploy our python code! \n",
    "\n",
    "using docker!\n",
    "\n",
    "# why\n",
    "1. why not\n",
    "2. because\n",
    "3. predictable production environments are rad"
   ]
  },
  {
   "cell_type": "markdown",
   "metadata": {
    "slideshow": {
     "slide_type": "subslide"
    }
   },
   "source": [
    "```\n",
    "$> docker run -t your_app\n",
    "----------------------\n",
    "generating profit...\n",
    "done!!!1\n",
    "----------------------\n",
    "```"
   ]
  },
  {
   "cell_type": "markdown",
   "metadata": {
    "slideshow": {
     "slide_type": "slide"
    }
   },
   "source": [
    "# start from the basics: build a simple linux image\n",
    "\n",
    "baby's first dockerfile\n",
    "\n",
    "```\n",
    "# Dockerfile---image name: dd\n",
    "FROM alpine:3.10\n",
    "\n",
    "RUN apk add sl\n",
    "\n",
    "CMD /bin/sh\n",
    "```\n",
    "a devops poem in three layers\n",
    "\n",
    "(it's a haiku if you say it right!)"
   ]
  },
  {
   "cell_type": "markdown",
   "metadata": {
    "slideshow": {
     "slide_type": "subslide"
    }
   },
   "source": [
    "# sweet, wat do\n",
    "\n",
    "layer 1: import a \"base image\"—in this case a tiny linux\n",
    "```\n",
    "FROM alpine:3.10\n",
    "```\n",
    "\n",
    "layer 2: install a system-level package in our little container\n",
    "```\n",
    "RUN apk add sl\n",
    "```\n",
    "\n",
    "layer 3: run a command after everything else is set up, a.k.a. `entrypoint`\n",
    "```\n",
    "CMD /bin/sh\n",
    "```"
   ]
  },
  {
   "cell_type": "markdown",
   "metadata": {
    "slideshow": {
     "slide_type": "subslide"
    }
   },
   "source": [
    "## sweet, how to\n",
    "\n",
    "build the docker \"image\" and tag it with the name `dd`\n",
    "```\n",
    "docker build  -t dd .\n",
    "```\n",
    "\n",
    "run the docker \"image\" by specifying the tag name—launches a shell! \n",
    "```\n",
    "docker run -it dd\n",
    "```\n",
    "\n",
    "specifying `-i` tells docker to let you interact via the terminal\n",
    "\n",
    "check it out."
   ]
  },
  {
   "cell_type": "markdown",
   "metadata": {
    "slideshow": {
     "slide_type": "notes"
    }
   },
   "source": [
    "1. run the container\n",
    "2. `uname -a` or `cat /etc/*-release`\n",
    "3. prove `sl` is installed by running `sl`"
   ]
  },
  {
   "cell_type": "markdown",
   "metadata": {
    "slideshow": {
     "slide_type": "slide"
    }
   },
   "source": [
    "# now let's spice it up with python\n",
    "\n",
    "baby's second dockerfile, hello cruel world\n",
    "\n",
    "```\n",
    "# Dockerfile---image name: py_hello_world\n",
    "FROM python:3.7.3-alpine3.10\n",
    "\n",
    "CMD python -c \"print('Hello World')\"\n",
    "```"
   ]
  },
  {
   "cell_type": "markdown",
   "metadata": {
    "slideshow": {
     "slide_type": "subslide"
    }
   },
   "source": [
    "## sweet, wat do\n",
    "\n",
    "import a \"base image\"\n",
    "```\n",
    "FROM python:3.7.3-alpine3.10\n",
    "```\n",
    "\n",
    "run a command after everything else is set up\n",
    "```\n",
    "CMD python -c \"print('Hello World')\"\n",
    "```"
   ]
  },
  {
   "cell_type": "markdown",
   "metadata": {
    "slideshow": {
     "slide_type": "subslide"
    }
   },
   "source": [
    "## sweet, how to\n",
    "\n",
    "build the docker \"image\" and tag it with the name `py_hello_world`\n",
    "```\n",
    "docker build  -t py_hello_world .\n",
    "```\n",
    "\n",
    "run the docker \"image\" by specifying the tag name. python prints [`Hello World`](https://twitter.com/pomeranian99/status/1147131938970505216) to the terminal\n",
    "```\n",
    "docker run -t py_hello_world\n",
    "```\n",
    "\n",
    "check it out."
   ]
  },
  {
   "cell_type": "markdown",
   "metadata": {
    "slideshow": {
     "slide_type": "slide"
    }
   },
   "source": [
    "# okay, but my program has more than one line\n",
    "\n",
    "i thought you'd never ask! here's a dockerfile:\n",
    "\n",
    "```\n",
    "# Dockerfile---image name: py_ezpz\n",
    "FROM python:3-alpine3.10\n",
    "\n",
    "WORKDIR /app\n",
    "\n",
    "COPY app /app\n",
    "\n",
    "RUN pip install -r requirements.txt\n",
    "\n",
    "COPY content /content\n",
    "\n",
    "CMD [\"python\", \"/app/analyze.py\"]\n",
    "```"
   ]
  },
  {
   "cell_type": "markdown",
   "metadata": {
    "slideshow": {
     "slide_type": "subslide"
    }
   },
   "source": [
    "## sweet, wat do\n",
    "\n",
    "you can pick from [many different images (debian, alpine, windows)](https://hub.docker.com/_/python?tab=description) with python already installed\n",
    "```\n",
    "FROM python:3-alpine3.10\n",
    "```\n",
    "\n",
    "specify a directory to start in and then copy our code into the image\n",
    "```\n",
    "WORKDIR /app\n",
    "\n",
    "COPY app /app\n",
    "```\n",
    "\n",
    "oh snap\n",
    "```\n",
    "RUN pip install -r requirements.txt\n",
    "```\n",
    "\n",
    "copy some more things into the image\n",
    "```\n",
    "COPY content /content\n",
    "```\n",
    "\n",
    "set our entrypoint.\n",
    "```\n",
    "CMD [\"python\", \"/app/analyze.py\"]\n",
    "```"
   ]
  },
  {
   "cell_type": "markdown",
   "metadata": {
    "slideshow": {
     "slide_type": "subslide"
    }
   },
   "source": [
    "`/app/requirements.txt`:\n",
    "    \n",
    "```\n",
    "parse\n",
    "```"
   ]
  },
  {
   "cell_type": "code",
   "execution_count": null,
   "metadata": {
    "slideshow": {
     "slide_type": "subslide"
    }
   },
   "outputs": [],
   "source": [
    "# /app/analyze.py\n",
    "from parse import parse\n",
    "\n",
    "def is_vogon(poem):\n",
    "    \"\"\"determines whether or not a poem is vogon\"\"\"\n",
    "    for line in poem:\n",
    "        parse_result = parse('On a {} bee,', line)\n",
    "        if parse_result:\n",
    "            if parse_result[0] == 'lurgid':\n",
    "                return True\n",
    "\n",
    "    return False\n",
    "\n",
    "if __name__ == \"__main__\":\n",
    "    # print('VERSION TWO POINT OH!!!!!!')\n",
    "    print('analyzing poem readability')\n",
    "    # open the poem\n",
    "    with open('/content/poem.txt') as fp:\n",
    "        poem = fp.readlines()\n",
    "    # should we read it?????????\n",
    "    if is_vogon(poem):\n",
    "        print('third worst poetry in the galaxy, pls avoid')\n",
    "    else:\n",
    "        print('definitely worth reading')"
   ]
  },
  {
   "cell_type": "markdown",
   "metadata": {
    "slideshow": {
     "slide_type": "subslide"
    }
   },
   "source": [
    "`/content/poem.txt`:\n",
    "\n",
    "```\n",
    "Oh freddled gruntbuggly,\n",
    "Thy micturations are to me, (with big yawning)\n",
    "As plurdled gabbleblotchits, in midsummer morning\n",
    "On a lurgid bee,\n",
    "That mordiously hath blurted out,\n",
    "Its earted jurtles, grumbling\n",
    "Into a rancid festering confectious organ squealer. [drowned out by moaning and screaming]\n",
    "Now the jurpling slayjid agrocrustles,\n",
    "Are slurping hagrilly up the axlegrurts,\n",
    "And living glupules frart and stipulate,\n",
    "Like jowling meated liverslime,\n",
    "Groop, I implore thee, my foonting turlingdromes,\n",
    "And hooptiously drangle me,\n",
    "With crinkly bindlewurdles,mashurbitries.\n",
    "Or else I shall rend thee in the gobberwarts with my blurglecruncheon,\n",
    "See if I don't!\n",
    "```"
   ]
  },
  {
   "cell_type": "markdown",
   "metadata": {
    "slideshow": {
     "slide_type": "subslide"
    }
   },
   "source": [
    "## try it out\n",
    "\n",
    "you know the drill:\n",
    "\n",
    "```\n",
    "docker build  -t py_ezpz .\n",
    "```\n",
    "\n",
    "and run it\n",
    "```\n",
    "docker run -t py_ezpz\n",
    "```\n",
    "\n",
    "check it out."
   ]
  },
  {
   "cell_type": "markdown",
   "metadata": {
    "slideshow": {
     "slide_type": "slide"
    }
   },
   "source": [
    "# pretty cool, but could be better\n",
    "\n",
    "1. reinstalling your environment when you make a code change is not ideal\n",
    "2. not really great that our content can't update short of rebuilding the container\n",
    "\n",
    "we can fix this. \n",
    "1. order matters\n",
    "2. mount a volume instead of copying the content."
   ]
  },
  {
   "cell_type": "markdown",
   "metadata": {
    "slideshow": {
     "slide_type": "subslide"
    }
   },
   "source": [
    "## order matters\n",
    "\n",
    "```\n",
    "# Dockerfile---image name: py_ezpz\n",
    "FROM python:3-alpine3.10\n",
    "\n",
    "WORKDIR /app\n",
    "\n",
    "COPY app /app       <-------- CACHE BUSTER\n",
    "\n",
    "RUN pip install -r requirements.txt\n",
    "\n",
    "COPY content /content\n",
    "\n",
    "CMD [\"python\", \"/app/analyze.py\"]\n",
    "```"
   ]
  },
  {
   "cell_type": "markdown",
   "metadata": {
    "slideshow": {
     "slide_type": "subslide"
    }
   },
   "source": [
    "## order matters\n",
    "\n",
    "```\n",
    "# Dockerfile---image name: py_ezpz\n",
    "FROM python:3-alpine3.10\n",
    "\n",
    "copy requirements.txt requirements.txt\n",
    "\n",
    "RUN pip install -r requirements.txt\n",
    "\n",
    "WORKDIR /app\n",
    "\n",
    "COPY app /app\n",
    "\n",
    "COPY content /content\n",
    "\n",
    "CMD [\"python\", \"/app/analyze.py\"]\n",
    "```"
   ]
  },
  {
   "cell_type": "markdown",
   "metadata": {
    "slideshow": {
     "slide_type": "subslide"
    }
   },
   "source": [
    "## mount a volume\n",
    "\n",
    "```\n",
    "docker run -v ~/gitrepos/pydocker_talk/py_ezpz/content/:/content -t py_ezpz\n",
    "```\n",
    "\n",
    "check it out."
   ]
  },
  {
   "cell_type": "markdown",
   "metadata": {
    "slideshow": {
     "slide_type": "slide"
    }
   },
   "source": [
    "# can we make this even more reusable\n",
    "\n",
    "we can make this even more reusable.\n",
    "\n",
    "imagine the case where everybody on a team uses the same tools (dependencies) but has different tasks.\n",
    "\n",
    "# let's build our system in stages\n",
    "\n",
    "why?\n",
    "1. why not\n",
    "2. because\n",
    "3. the fewer times you have to rebuild your environment the happier you are\n",
    "4. it is actually really easy to distribute a docker image (upload to dockerhub!)"
   ]
  },
  {
   "cell_type": "markdown",
   "metadata": {
    "slideshow": {
     "slide_type": "subslide"
    }
   },
   "source": [
    "## first write our own base image\n",
    "\n",
    "```\n",
    "# Dockerfile---image name: analyze_base\n",
    "FROM python:3-alpine3.10\n",
    "\n",
    "COPY requirements.txt requirements.txt\n",
    "\n",
    "RUN pip install -r requirements.txt\n",
    "```\n",
    "\n",
    "and build it:\n",
    "\n",
    "```\n",
    "docker build -t analyze_base -f Dockerfile.base .\n",
    "```"
   ]
  },
  {
   "cell_type": "markdown",
   "metadata": {
    "slideshow": {
     "slide_type": "subslide"
    }
   },
   "source": [
    "## next construct the rest of our app\n",
    "```\n",
    "# Dockerfile---image name: analyze\n",
    "FROM analyze_base\n",
    "\n",
    "WORKDIR /app\n",
    "\n",
    "COPY app /app\n",
    "\n",
    "CMD [\"python\", \"/app/analyze.py\"]\n",
    "```\n",
    "\n",
    "and build it:\n",
    "\n",
    "```\n",
    "docker build --no-cache -t analyze .\n",
    "```"
   ]
  },
  {
   "cell_type": "markdown",
   "metadata": {
    "slideshow": {
     "slide_type": "subslide"
    }
   },
   "source": [
    "## try it out\n",
    "\n",
    "```\n",
    "docker run -v ~/gitrepos/pydocker_talk/py_inherit/content/:/content -t analyze\n",
    "```\n",
    "\n",
    "check it out."
   ]
  },
  {
   "cell_type": "markdown",
   "metadata": {
    "slideshow": {
     "slide_type": "slide"
    }
   },
   "source": [
    "# what if you need conda???\n",
    "\n",
    "*shudder*\n",
    "\n",
    "no but really, conda can be very useful because in many cases it will handle system level dependencies as well.\n",
    "\n",
    "it is definitely quirky though.\n",
    "\n",
    "you can [inherit from a miniconda3 container](https://hub.docker.com/r/continuumio/miniconda3/tags) and start building your environment from there.\n",
    "\n",
    "pro tips: \n",
    "1. use the `conda-forge` channel as much as possible and remove `defaults` from your `.condarc`.\n",
    "2. try not to pin versions unless absolutely necessary.\n",
    "3. use a multi-stage build! you really don't want to be rebuilding your conda environment all the time."
   ]
  },
  {
   "cell_type": "markdown",
   "metadata": {
    "slideshow": {
     "slide_type": "subslide"
    }
   },
   "source": [
    "# what if you have lots of internal packages\n",
    "\n",
    "this starts to get a little more tricky.\n",
    "\n",
    "1. part of your dockerfile can be `RUN` commands that install your packages\n",
    "2. you could host your own pypi server/conda channel\n",
    "\n",
    "then you could build the image locally and distribute using dockerhub\n",
    "\n",
    "are there any other suggestions for how to securely/privately do this over the internet?"
   ]
  },
  {
   "cell_type": "markdown",
   "metadata": {
    "slideshow": {
     "slide_type": "slide"
    }
   },
   "source": [
    "## okay bye\n",
    "\n",
    "slides:\n",
    "### [`thisisreal.net/talks/20190709_boulder_python/`](https://thisisreal.net/talks/20190709_boulder_python/)\n",
    "notebook:\n",
    "### [`https://github.com/whlteXbread/talk_notebooks/`](https://github.com/whlteXbread/talk_notebooks/blob/master/20190709_boulder_python_py_docker.ipynb)\n",
    "\n",
    "andrew catellier\n",
    "\n",
    "[`thisisreal.net`](https://thisisreal.net)\n",
    "\n",
    "[`@whltexbread`](https://twitter.com/whltexbread)\n",
    "\n",
    "[`@whltexbread@xoxo.zone`](https://xoxo.zone/web/accounts/536#)\n",
    "\n",
    "[`github.com/whltexbread`](https://github.com/whltexbread)"
   ]
  }
 ],
 "metadata": {
  "celltoolbar": "Slideshow",
  "kernelspec": {
   "display_name": "Python 3",
   "language": "python",
   "name": "python3"
  },
  "language_info": {
   "codemirror_mode": {
    "name": "ipython",
    "version": 3
   },
   "file_extension": ".py",
   "mimetype": "text/x-python",
   "name": "python",
   "nbconvert_exporter": "python",
   "pygments_lexer": "ipython3",
   "version": "3.6.6"
  }
 },
 "nbformat": 4,
 "nbformat_minor": 2
}
